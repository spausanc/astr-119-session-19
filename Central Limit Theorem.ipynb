{
 "cells": [
  {
   "cell_type": "code",
   "execution_count": null,
   "metadata": {},
   "outputs": [],
   "source": [
    "%matplotlib inline\n",
    "import matplotlib.pyplot as plt\n",
    "import numpy as np"
   ]
  },
  {
   "cell_type": "code",
   "execution_count": null,
   "metadata": {},
   "outputs": [],
   "source": [
    "n_exp = 10000\n",
    "n_draw = 10 #number of drawals per experiment\n",
    "n_bins = 100 #Hystogram limits?\n",
    "x_min = 0.15 #end of the histogram\n",
    "x_max = 0.85\n",
    "\n",
    "means = np.zeros(n_exp)"
   ]
  },
  {
   "cell_type": "code",
   "execution_count": null,
   "metadata": {},
   "outputs": [],
   "source": [
    "# Loop over the number of experiments\n",
    "for i in range(n_exp):\n",
    "    \n",
    "    # Pull 10 random variates from a uniform distribution\n",
    "    z = np.random.uniform(0., 1., n_draw)\n",
    "    \n",
    "    # Record the mean\n",
    "    means[i] = np.mean(z)"
   ]
  },
  {
   "cell_type": "code",
   "execution_count": null,
   "metadata": {},
   "outputs": [],
   "source": [
    "def gaussian(x, mu, sigma):\n",
    "    return 1./( 2.0*np.pi*sigma**2 )**0.5 * np.exp(-0.5*((x-mu)/sigma)**2)"
   ]
  },
  {
   "cell_type": "code",
   "execution_count": null,
   "metadata": {},
   "outputs": [],
   "source": [
    "fig = plt.figure(figsize=(7,7))\n",
    "y_hist, x_hist, ignored = plt.hist(means, bins=n_bins, range=[x_min,x_max], density=True)\n",
    "xx = np.linspace(x_min, x_max, 1000)\n",
    "\n",
    "# Set the RMS og the gaussian\n",
    "sigma = 1./12.**0.5 / 10.**0.5\n",
    "\n",
    "plt.plot(xx, gaussian(xx, 0.5, sigma), color=\"red\")\n",
    "plt.ylim([0, 1.1*gaussian(0.5, 0.5, sigma)])\n",
    "plt.xlim([x_min, x_max])\n",
    "# plt.gca().set_espect(20)\n",
    "plt.xlabel('x')\n",
    "plt.ylabel('y(x)')\n",
    "plt.show()"
   ]
  },
  {
   "cell_type": "code",
   "execution_count": null,
   "metadata": {},
   "outputs": [],
   "source": []
  }
 ],
 "metadata": {
  "kernelspec": {
   "display_name": "Python 3",
   "language": "python",
   "name": "python3"
  },
  "language_info": {
   "codemirror_mode": {
    "name": "ipython",
    "version": 3
   },
   "file_extension": ".py",
   "mimetype": "text/x-python",
   "name": "python",
   "nbconvert_exporter": "python",
   "pygments_lexer": "ipython3",
   "version": "3.6.5"
  }
 },
 "nbformat": 4,
 "nbformat_minor": 2
}
