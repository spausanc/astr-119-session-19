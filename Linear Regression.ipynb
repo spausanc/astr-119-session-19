{
 "cells": [
  {
   "cell_type": "code",
   "execution_count": null,
   "metadata": {},
   "outputs": [],
   "source": [
    "%matplotlib inline\n",
    "import matplotlib.pyplot as plt\n",
    "import numpy as np"
   ]
  },
  {
   "cell_type": "code",
   "execution_count": null,
   "metadata": {},
   "outputs": [],
   "source": [
    "# Sent a random number seed\n",
    "np.random.seed(119)\n",
    "\n",
    "# Set number of data points\n",
    "npoints = 50\n",
    "\n",
    "x = np.linspace(0, 10., npoints)\n",
    "\n",
    "m = 2.0\n",
    "b = 1.0\n",
    "sigma = 2.0\n",
    "\n",
    "y = m*x + b + np.random.normal(scale=sigma, size =npoints)\n",
    "y_err = np.full(npoints, sigma)"
   ]
  },
  {
   "cell_type": "code",
   "execution_count": null,
   "metadata": {},
   "outputs": [],
   "source": [
    "f = plt.figure(figsize=(7,7))\n",
    "plt.errorbar(x, y, yerr =y_err, fmt='o')\n",
    "plt.xlabel('x')\n",
    "plt.ylabel('y')"
   ]
  },
  {
   "cell_type": "markdown",
   "metadata": {},
   "source": [
    "### Method #1, polyfit()"
   ]
  },
  {
   "cell_type": "code",
   "execution_count": null,
   "metadata": {},
   "outputs": [],
   "source": [
    "m_fit, b_fit = np.poly1d(np.polyfit(x, y, 1, w=1./y_err))  #Weight with uncertainty\n",
    "print(m_fit, b_fit)\n",
    "\n",
    "y_fit = m_fit * x + b_fit"
   ]
  },
  {
   "cell_type": "markdown",
   "metadata": {},
   "source": [
    "### Plot Result"
   ]
  },
  {
   "cell_type": "code",
   "execution_count": null,
   "metadata": {},
   "outputs": [],
   "source": [
    "f = plt.figure(figsize=(7,7))\n",
    "plt.errorbar(x, y, yerr=y_err, fmt='o', label='data')\n",
    "plt.plot(x, y_fit, label='fit')\n",
    "plt.xlabel('x')\n",
    "plt.ylabel('y')\n",
    "plt.legend(loc = 2, frameon=False)"
   ]
  },
  {
   "cell_type": "markdown",
   "metadata": {},
   "source": [
    "### Linear regression"
   ]
  },
  {
   "cell_type": "code",
   "execution_count": null,
   "metadata": {},
   "outputs": [],
   "source": [
    "m_A = 0.0\n",
    "m_B = 0.0\n",
    "m_C = 0.0\n",
    "m_D = 0.0\n",
    "\n",
    "\n",
    "\n",
    "m_A = np.sum(x*y)\n",
    "m_B = np.sum(x)*np.sum(y)\n",
    "\n",
    "m_C = np.sum(x*x)\n",
    "m_D = np.sum(x)**2\n",
    "\n",
    "m_fit_lr = (float(npoints)*m_A - m_B) / (float(npoints)*m_C - m_D)\n",
    "y_mean = np.mean(y)\n",
    "x_mean = np.mean(x)\n",
    "\n",
    "b_fit_lr = y_mean - m_fit_lr * x_mean\n",
    "y_fit_lr = m_fit_lr * x+b_fit_lr\n",
    "print(m_fit_lr, b_fit_lr)\n",
    "\n",
    "\n"
   ]
  },
  {
   "cell_type": "code",
   "execution_count": null,
   "metadata": {},
   "outputs": [],
   "source": [
    "f = plt.figure(figsize=(7,7))\n",
    "plt.errorbar(x, y, yerr=y_err, fmt='o', label='data')\n",
    "plt.plot(x, y_fit_lr, 'o', label='linear reg')\n",
    "plt.plot(x, y_fit, label='fit')\n",
    "plt.xlabel('x')\n",
    "plt.ylabel('y')\n",
    "plt.legend(loc = 2, frameon=False)"
   ]
  },
  {
   "cell_type": "code",
   "execution_count": null,
   "metadata": {},
   "outputs": [],
   "source": []
  }
 ],
 "metadata": {
  "kernelspec": {
   "display_name": "Python 3",
   "language": "python",
   "name": "python3"
  },
  "language_info": {
   "codemirror_mode": {
    "name": "ipython",
    "version": 3
   },
   "file_extension": ".py",
   "mimetype": "text/x-python",
   "name": "python",
   "nbconvert_exporter": "python",
   "pygments_lexer": "ipython3",
   "version": "3.6.5"
  }
 },
 "nbformat": 4,
 "nbformat_minor": 2
}
